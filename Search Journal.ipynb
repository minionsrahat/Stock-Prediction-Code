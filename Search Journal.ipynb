{
 "cells": [
  {
   "cell_type": "code",
   "execution_count": 77,
   "metadata": {},
   "outputs": [
    {
     "name": "stdout",
     "output_type": "stream",
     "text": [
      "{'container_type': 'Author', 'filled': set(), 'source': <AuthorSource.SEARCH_AUTHOR_SNIPPETS: 2>, 'scholar_id': '4bahYMkAAAAJ', 'url_picture': 'https://scholar.google.com/citations?view_op=medium_photo&user=4bahYMkAAAAJ', 'name': 'Steven A. Cholewiak, PhD', 'affiliation': 'Vision Scientist', 'email_domain': '@berkeley.edu', 'interests': ['Depth Cues', '3D Shape', 'Shape from Texture & Shading', 'Naive Physics', 'Haptics'], 'citedby': 317}\n"
     ]
    }
   ],
   "source": [
    "from scholarly import scholarly\n",
    "\n",
    "print(next(scholarly.search_author('Steven A. Cholewiak')))\n"
   ]
  },
  {
   "cell_type": "code",
   "execution_count": 78,
   "metadata": {},
   "outputs": [],
   "source": [
    "paper=pd.DataFrame(columns= ['title','author','pub_year','venue','citedby_url','num_citations','gsrank','pub_url','publishedData','related_link','numOfVersions'])"
   ]
  },
  {
   "cell_type": "code",
   "execution_count": 81,
   "metadata": {},
   "outputs": [
    {
     "name": "stdout",
     "output_type": "stream",
     "text": [
      "{'author_id': ['', 'xPcLU-0AAAAJ', ''],\n",
      " 'bib': {'abstract': 'This paper presents the use of time series ARIMA model '\n",
      "                     'with interventions, and neural network backpropagation '\n",
      "                     'model in analyzing the behavior of sales in a medium '\n",
      "                     'size enterprise located in Santa Maria (RS), Brazil for '\n",
      "                     'the period January 1979-December 1989. The forecasts '\n",
      "                     'obtained using the backpropagation model were found to '\n",
      "                     'be more accurate than those of ARIMA model with '\n",
      "                     'interventions.',\n",
      "         'author': ['AP Ansuj', 'ME Camargo', 'R Radharamanan'],\n",
      "         'pub_year': '1996',\n",
      "         'title': 'Sales forecasting using time series and neural networks',\n",
      "         'venue': 'Computers & Industrial …'},\n",
      " 'citedby_url': '/scholar?cites=12260312225118851308&as_sdt=5,33&sciodt=0,33&hl=en',\n",
      " 'filled': False,\n",
      " 'gsrank': 1,\n",
      " 'num_citations': 81,\n",
      " 'pub_url': 'https://www.sciencedirect.com/science/article/pii/0360835296001660',\n",
      " 'source': 'PUBLICATION_SEARCH_SNIPPET',\n",
      " 'url_add_sclib': '/citations?hl=en&xsrf=&continue=/scholar%3Fq%3DSales%2Bforecasting%2Busing%2Btime%2Bseries%2Band%2Bneural%2Bnetworks%26hl%3Den%26as_sdt%3D0,33&citilm=1&json=&update_op=library_add&info=7JCWxQJhJaoJ&ei=MZ7pX-n4J47gygSm-KCACw',\n",
      " 'url_scholarbib': '/scholar?q=info:7JCWxQJhJaoJ:scholar.google.com/&output=cite&scirp=0&hl=en'}\n",
      "{'author_id': ['z_vb9hwAAAAJ', 'aEvYD3IAAAAJ', ''],\n",
      " 'bib': {'abstract': 'Forecasting future sales is one of the most important '\n",
      "                     'issues that is beyond all strategic and planning '\n",
      "                     'decisions in effective operations of retail businesses. '\n",
      "                     'For profitable retail businesses, accurate demand '\n",
      "                     'forecasting is crucial in organizing and planning '\n",
      "                     'production, purchasing, transportation and labor force. '\n",
      "                     'Retail sales series belong to a special type of time '\n",
      "                     'series that typically contain trend and seasonal '\n",
      "                     'patterns, presenting challenges in developing effective '\n",
      "                     'forecasting models. This work compares the forecasting '\n",
      "                     'performance of',\n",
      "         'author': ['P Ramos', 'N Santos', 'R Rebelo'],\n",
      "         'pub_year': '2015',\n",
      "         'title': 'Performance of state space and ARIMA models for consumer '\n",
      "                  'retail sales forecasting',\n",
      "         'venue': 'Robotics and computer-integrated …'},\n",
      " 'citedby_url': '/scholar?cites=13687424135033890456&as_sdt=5,33&sciodt=0,33&hl=en',\n",
      " 'eprint_url': 'http://recipp.ipp.pt/bitstream/10400.22/7618/1/1-s2.0-S0736584515000137-main.pdf',\n",
      " 'filled': False,\n",
      " 'gsrank': 1,\n",
      " 'num_citations': 125,\n",
      " 'pub_url': 'https://www.sciencedirect.com/science/article/pii/S0736584515000137',\n",
      " 'source': 'PUBLICATION_SEARCH_SNIPPET',\n",
      " 'url_add_sclib': '/citations?hl=en&xsrf=&continue=/scholar%3Fq%3DPerformance%2Bof%2Bstate%2Bspace%2Band%2BARIMA%2Bmodels%2Bfor%2Bconsumer%2Bretail%2Bsales%2Bforecasting%26hl%3Den%26as_sdt%3D0,33&citilm=1&json=&update_op=library_add&info=mKbNUrt_870J&ei=M57pX_T0McGiygSWiLqICw',\n",
      " 'url_scholarbib': '/scholar?q=info:mKbNUrt_870J:scholar.google.com/&output=cite&scirp=0&hl=en'}\n",
      "{'author_id': ['', ''],\n",
      " 'bib': {'abstract': 'The application of short‐term forecasting techniques to '\n",
      "                     'theprediction of commercial rental values generates '\n",
      "                     'valuable informationabout the dynamics of rent '\n",
      "                     'movements. It also captures short‐run trendsmore '\n",
      "                     'effectively than do other forecasting procedures. Makes '\n",
      "                     'use ofARIMA models to provide one‐step‐ahead '\n",
      "                     'predictions. The results showthat ARIMA models perform '\n",
      "                     'better in the case of retail and officesectors. The '\n",
      "                     'forecasts for these sectors are satisfactory. Retail '\n",
      "                     'rentsbear a relationship to their past values, whereas '\n",
      "                     'office rents',\n",
      "         'author': ['T McGough', 'S Tsolacos'],\n",
      "         'pub_year': '1995',\n",
      "         'title': 'Forecasting commercial rental values using ARIMA models',\n",
      "         'venue': 'Journal of Property Valuation and …'},\n",
      " 'citedby_url': '/scholar?cites=16013117107192919210&as_sdt=5,33&sciodt=0,33&hl=en',\n",
      " 'filled': False,\n",
      " 'gsrank': 1,\n",
      " 'num_citations': 81,\n",
      " 'pub_url': 'https://www.emerald.com/insight/content/doi/10.1108/14635789510147801/full/html',\n",
      " 'source': 'PUBLICATION_SEARCH_SNIPPET',\n",
      " 'url_add_sclib': '/citations?hl=en&xsrf=&continue=/scholar%3Fq%3DForecasting%2Bcommercial%2Brental%2Bvalues%2Busing%2BARIMA%2Bmodels%26hl%3Den%26as_sdt%3D0,33&citilm=1&json=&update_op=library_add&info=qvT2-CoFOt4J&ei=NZ7pX7zgPIOG6rQPssuZgAs',\n",
      " 'url_scholarbib': '/scholar?q=info:qvT2-CoFOt4J:scholar.google.com/&output=cite&scirp=0&hl=en'}\n",
      "{'author_id': ['', '', ''],\n",
      " 'bib': {'abstract': 'The work presented in this article constitutes a '\n",
      "                     'contribution to modeling and forecasting the demand in a '\n",
      "                     'food company, by using time series approach. Our work '\n",
      "                     'demonstrates how the historical demand data could be '\n",
      "                     'utilized to forecast future demand and how these '\n",
      "                     'forecasts affect the supply chain. The historical demand '\n",
      "                     'information was used to develop several autoregressive '\n",
      "                     'integrated moving average (ARIMA) models by using '\n",
      "                     'Box–Jenkins time series procedure and the adequate model '\n",
      "                     'was selected according to four performance',\n",
      "         'author': ['J Fattah', 'L Ezzine', 'Z Aman'],\n",
      "         'pub_year': '2018',\n",
      "         'title': 'Forecasting of demand using ARIMA model',\n",
      "         'venue': 'International …'},\n",
      " 'citedby_url': '/scholar?cites=6888033455535885195&as_sdt=5,33&sciodt=0,33&hl=en',\n",
      " 'eprint_url': 'https://journals.sagepub.com/doi/pdf/10.1177/1847979018808673',\n",
      " 'filled': False,\n",
      " 'gsrank': 1,\n",
      " 'num_citations': 40,\n",
      " 'pub_url': 'https://journals.sagepub.com/doi/abs/10.1177/1847979018808673',\n",
      " 'source': 'PUBLICATION_SEARCH_SNIPPET',\n",
      " 'url_add_sclib': '/citations?hl=en&xsrf=&continue=/scholar%3Fq%3DForecasting%2Bof%2Bdemand%2Busing%2BARIMA%2Bmodel%26hl%3Den%26as_sdt%3D0,33&citilm=1&json=&update_op=library_add&info=iws59u41l18J&ei=OZ7pX53vKvmB6rQP_Yq7gAs',\n",
      " 'url_scholarbib': '/scholar?q=info:iws59u41l18J:scholar.google.com/&output=cite&scirp=0&hl=en'}\n",
      "{'author_id': ['', '', ''],\n",
      " 'bib': {'abstract': 'Sales forecasting is a most important application in '\n",
      "                     'industries and has been one of the most scientifically '\n",
      "                     'and technologically challenging problems around the '\n",
      "                     'world. One approach of prediction is to spot patterns in '\n",
      "                     'the past, when it is known in advance what followed them '\n",
      "                     'and verify it on more recent data. If a pattern is '\n",
      "                     'followed by the same outcome frequently enough, it can '\n",
      "                     'be concluded that it is a genuine relationship. Because '\n",
      "                     'this approach does not assume any special knowledge or '\n",
      "                     'form of the regularities, the method is quite general',\n",
      "         'author': ['SP Shakti', 'MK Hassan', 'Y Zhenning'],\n",
      "         'pub_year': '2017',\n",
      "         'title': 'Annual Automobile Sales Prediction Using ARIMA Model',\n",
      "         'venue': 'International Journal of …'},\n",
      " 'citedby_url': '/scholar?cites=15932557488814315648&as_sdt=5,33&sciodt=0,33&hl=en',\n",
      " 'eprint_url': 'http://gvpress.com/journals/IJHIT/vol10_no6/2.pdf',\n",
      " 'filled': False,\n",
      " 'gsrank': 1,\n",
      " 'num_citations': 8,\n",
      " 'pub_url': 'http://gvpress.com/journals/IJHIT/vol10_no6/2.pdf',\n",
      " 'source': 'PUBLICATION_SEARCH_SNIPPET',\n",
      " 'url_add_sclib': '/citations?hl=en&xsrf=&continue=/scholar%3Fq%3DAnnual%2BAutomobile%2BSales%2BPrediction%2BUsing%2BARIMA%2BModel%26hl%3Den%26as_sdt%3D0,33&citilm=1&json=&update_op=library_add&info=gFhELJ_QG90J&ei=PZ7pX8eCJI6CywTJ6a2ACw',\n",
      " 'url_scholarbib': '/scholar?q=info:gFhELJ_QG90J:scholar.google.com/&output=cite&scirp=0&hl=en'}\n"
     ]
    },
    {
     "name": "stdout",
     "output_type": "stream",
     "text": [
      "{'author_id': ['rWo5_VwAAAAJ', 'od-ZLWwAAAAJ'],\n",
      " 'bib': {'abstract': 'The purpose of this paper is to compare the accuracy of '\n",
      "                     'various linear and nonlinear models for forecasting '\n",
      "                     'aggregate retail sales. Because of the strong seasonal '\n",
      "                     'fluctuations observed in the retail sales, several '\n",
      "                     'traditional seasonal forecasting methods such as the '\n",
      "                     'time series approach and the regression approach with '\n",
      "                     'seasonal dummy variables and trigonometric functions are '\n",
      "                     'employed. The nonlinear versions of these methods are '\n",
      "                     'implemented via neural networks that are generalized '\n",
      "                     'nonlinear functional approximators. Issues of seasonal',\n",
      "         'author': ['CW Chu', 'GP Zhang'],\n",
      "         'pub_year': '2003',\n",
      "         'title': 'A comparative study of linear and nonlinear models for '\n",
      "                  'aggregate retail sales forecasting',\n",
      "         'venue': 'International Journal of production economics'},\n",
      " 'citedby_url': '/scholar?cites=13100726972981087437&as_sdt=5,33&sciodt=0,33&hl=en',\n",
      " 'filled': False,\n",
      " 'gsrank': 1,\n",
      " 'num_citations': 223,\n",
      " 'pub_url': 'https://www.sciencedirect.com/science/article/pii/S0925527303000689',\n",
      " 'source': 'PUBLICATION_SEARCH_SNIPPET',\n",
      " 'url_add_sclib': '/citations?hl=en&xsrf=&continue=/scholar%3Fq%3DA%2Bcomparative%2Bstudy%2Bof%2Blinear%2Band%2Bnonlinear%2Bmodels%2Bfor%2Baggregate%2Bretail%2Bsales%2Bforecasting%26hl%3Den%26as_sdt%3D0,33&citilm=1&json=&update_op=library_add&info=zYzqc8Uhz7UJ&ei=QZ7pX9TJNpaTygTghbOACw',\n",
      " 'url_scholarbib': '/scholar?q=info:zYzqc8Uhz7UJ:scholar.google.com/&output=cite&scirp=0&hl=en'}\n",
      "{'author_id': ['od-ZLWwAAAAJ'],\n",
      " 'bib': {'abstract': 'Autoregressive integrated moving average (ARIMA) is one '\n",
      "                     'of the popular linear models in time series forecasting '\n",
      "                     'during the past three decades. Recent research '\n",
      "                     'activities in forecasting with artificial neural '\n",
      "                     'networks (ANNs) suggest that ANNs can be a promising '\n",
      "                     'alternative to the traditional linear methods. ARIMA '\n",
      "                     'models and ANNs are often compared with mixed '\n",
      "                     'conclusions in terms of the superiority in forecasting '\n",
      "                     'performance. In this paper, a hybrid methodology that '\n",
      "                     'combines both ARIMA and ANN models is proposed to take',\n",
      "         'author': ['GP Zhang'],\n",
      "         'pub_year': '2003',\n",
      "         'title': 'Time series forecasting using a hybrid ARIMA and neural '\n",
      "                  'network model',\n",
      "         'venue': 'Neurocomputing'},\n",
      " 'citedby_url': '/scholar?cites=3551603047244278695&as_sdt=5,33&sciodt=0,33&hl=en',\n",
      " 'eprint_url': 'http://citeseerx.ist.psu.edu/viewdoc/download?doi=10.1.1.462.3756&rep=rep1&type=pdf',\n",
      " 'filled': False,\n",
      " 'gsrank': 1,\n",
      " 'num_citations': 3054,\n",
      " 'pub_url': 'https://www.sciencedirect.com/science/article/pii/S0925231201007020',\n",
      " 'source': 'PUBLICATION_SEARCH_SNIPPET',\n",
      " 'url_add_sclib': '/citations?hl=en&xsrf=&continue=/scholar%3Fq%3DTime%2Bseries%2Bforecasting%2Busing%2Ba%2Bhybrid%2BARIMA%2Band%2Bneural%2Bnetwork%2Bmodel%26hl%3Den%26as_sdt%3D0,33&citilm=1&json=&update_op=library_add&info=p6swfifUSTEJ&ei=Q57pX432J8THywSPtbWACw',\n",
      " 'url_scholarbib': '/scholar?q=info:p6swfifUSTEJ:scholar.google.com/&output=cite&scirp=0&hl=en'}\n",
      "{'author_id': ['O2Q775wAAAAJ', 'uS3CswwAAAAJ', ''],\n",
      " 'bib': {'abstract': 'Forecasting is a process of predicting something future '\n",
      "                     'by doing calculations from previous data. In this case '\n",
      "                     'the authors will forecast the sale of plastic production '\n",
      "                     'by using ARIMA Box-Jenkins method for 2015 forecasting. '\n",
      "                     'The data used is the sales data of plastic factory '\n",
      "                     'production in Bandung from 2012 to 2014. This research '\n",
      "                     'will use ARIMA procedure in SAS that allows for '\n",
      "                     'identification, Estimation and forecasting of Time '\n",
      "                     'Series models. The measurement of the accuracy of '\n",
      "                     'forecasting results is done with the MAPE (Mean Absolute',\n",
      "         'author': ['B Siregar', 'EB Nababan', 'A Yap'],\n",
      "         'pub_year': '2017',\n",
      "         'title': 'Forecasting of raw material needed for plastic products '\n",
      "                  'based in income data using ARIMA method',\n",
      "         'venue': '2017 5th International …'},\n",
      " 'citedby_url': '/scholar?cites=6809572968793729247&as_sdt=5,33&sciodt=0,33&hl=en',\n",
      " 'filled': False,\n",
      " 'gsrank': 1,\n",
      " 'num_citations': 12,\n",
      " 'pub_url': 'https://ieeexplore.ieee.org/abstract/document/8328777/',\n",
      " 'source': 'PUBLICATION_SEARCH_SNIPPET',\n",
      " 'url_add_sclib': '/citations?hl=en&xsrf=&continue=/scholar%3Fq%3DForecasting%2Bof%2Braw%2Bmaterial%2Bneeded%2Bfor%2Bplastic%2Bproducts%2Bbased%2Bin%2Bincome%2Bdata%2Busing%2BARIMA%2Bmethod%26hl%3Den%26as_sdt%3D0,33&citilm=1&json=&update_op=library_add&info=32gNVYl2gF4J&ei=Rp7pX4StB9GrywTfzY6ACw',\n",
      " 'url_scholarbib': '/scholar?q=info:32gNVYl2gF4J:scholar.google.com/&output=cite&scirp=0&hl=en'}\n",
      "{'author_id': ['aV4-S9cAAAAJ', '3FT1yagAAAAJ', 'JH6lducAAAAJ'],\n",
      " 'bib': {'abstract': 'Having forecast of real estate sales done correctly is '\n",
      "                     'very important for balancing supply and demand in the '\n",
      "                     'housing market. However, it is very difficult for '\n",
      "                     'housing companies or real estate professionals to '\n",
      "                     'determine how many houses they will sell next year. '\n",
      "                     'Although this does not mean that a prediction plan '\n",
      "                     'cannot be created, the studies conducted both in Turkey '\n",
      "                     'and different countries about the housing sector are '\n",
      "                     'focused more on estimating housing prices. Especially '\n",
      "                     'the developing technological advances allow making '\n",
      "                     'estimations',\n",
      "         'author': ['AS Temür', 'M Akgün', 'G Temür'],\n",
      "         'pub_year': '2019',\n",
      "         'title': 'Predicting housing sales in Turkey using ARIMA, LSTM and '\n",
      "                  'hybrid models',\n",
      "         'venue': 'Journal of Business Economics and …'},\n",
      " 'citedby_url': '/scholar?cites=1161396366940084630&as_sdt=5,33&sciodt=0,33&hl=en',\n",
      " 'eprint_url': 'https://journals.vgtu.lt/index.php/JBEM/article/download/10190/9098',\n",
      " 'filled': False,\n",
      " 'gsrank': 1,\n",
      " 'num_citations': 9,\n",
      " 'pub_url': 'https://journals.vgtu.lt/index.php/JBEM/article/view/10190',\n",
      " 'source': 'PUBLICATION_SEARCH_SNIPPET',\n",
      " 'url_add_sclib': '/citations?hl=en&xsrf=&continue=/scholar%3Fq%3DPredicting%2Bhousing%2Bsales%2Bin%2BTurkey%2Busing%2BARIMA,%2BLSTM%2Band%2Bhybrid%2Bmodels%26hl%3Den%26as_sdt%3D0,33&citilm=1&json=&update_op=library_add&info=lpnkptcbHhAJ&ei=SJ7pX8bOJMedywTxxouACw',\n",
      " 'url_scholarbib': '/scholar?q=info:lpnkptcbHhAJ:scholar.google.com/&output=cite&scirp=0&hl=en'}\n",
      "{'author_id': ['xb_0jCwAAAAJ', '9YdZ1aUAAAAJ', ''],\n",
      " 'bib': {'abstract': 'Enhancing sales and operations planning through '\n",
      "                     'forecasting analysis and business intelligence is '\n",
      "                     'demanded in many industries and enterprises. Publishing '\n",
      "                     'industries usually pick attractive titles and headlines '\n",
      "                     'for their stories to increase sales, since popular '\n",
      "                     'article titles and headlines can attract readers to buy '\n",
      "                     'magazines. In this paper, information retrieval '\n",
      "                     'techniques are adopted to extract words from article '\n",
      "                     'titles. The popularity measures of article titles are '\n",
      "                     'then analyzed by using the search indexes obtained from '\n",
      "                     'Google search engine',\n",
      "         'author': ['H Omar', 'VH Hoang', 'DR Liu'],\n",
      "         'pub_year': '2016',\n",
      "         'title': 'A hybrid neural network model for sales forecasting based '\n",
      "                  'on ARIMA and search popularity of article titles',\n",
      "         'venue': 'Computational intelligence and …'},\n",
      " 'citedby_url': '/scholar?cites=14652875114426722291&as_sdt=5,33&sciodt=0,33&hl=en',\n",
      " 'eprint_url': 'https://www.hindawi.com/journals/cin/2016/9656453/abs/',\n",
      " 'filled': False,\n",
      " 'gsrank': 1,\n",
      " 'num_citations': 19,\n",
      " 'pub_url': 'https://www.hindawi.com/journals/cin/2016/9656453/abs/',\n",
      " 'source': 'PUBLICATION_SEARCH_SNIPPET',\n",
      " 'url_add_sclib': '/citations?hl=en&xsrf=&continue=/scholar%3Fq%3DA%2Bhybrid%2Bneural%2Bnetwork%2Bmodel%2Bfor%2Bsales%2Bforecasting%2Bbased%2Bon%2BARIMA%2Band%2Bsearch%2Bpopularity%2Bof%2Barticle%2Btitles%26hl%3Den%26as_sdt%3D0,33&citilm=1&json=&update_op=library_add&info=8-eQRUh4WcsJ&ei=TJ7pX_LcFcGiygSWiLqICw',\n",
      " 'url_scholarbib': '/scholar?q=info:8-eQRUh4WcsJ:scholar.google.com/&output=cite&scirp=0&hl=en'}\n"
     ]
    }
   ],
   "source": [
    "x=0;\n",
    "for index, row in df.iterrows():\n",
    "    search_query = scholarly.search_pubs(row['title']+'')\n",
    "    pub2=next(search_query)\n",
    "    scholarly.pprint(pub2)\n",
    "    paper.loc[x,['title']]=row['title']\n",
    "    paper.loc[x,['author']]=str(pub2['bib']['author']).strip('\\\"\"[]').replace(\"'\", \"\")\n",
    "    paper.loc[x,['pub_year']]=str(pub2['bib']['pub_year']).strip('\\\"\"[]').replace(\"'\", \"\")\n",
    "    paper.loc[x,['venue']]=str(pub2['bib']['venue']).strip('\\\"\"[]').replace(\"'\", \"\")\n",
    "    paper.loc[x,['citedby_url']]=str(pub2['citedby_url']).strip('\\\"\"[]').replace(\"'\", \"\")\n",
    "    paper.loc[x,['num_citations']]=str(pub2['num_citations']).strip('\\\"\"[]').replace(\"'\", \"\")\n",
    "    paper.loc[x,['gsrank']]=str(pub2['gsrank']).strip('\\\"\"[]').replace(\"'\", \"\")\n",
    "    paper.loc[x,['pub_url']]=str(pub2['pub_url']).strip('\\\"\"[]').replace(\"'\", \"\")\n",
    "    paper.loc[x,['publishedData']]=row['publishedData']\n",
    "    paper.loc[x,['related_link']]=row['relatedLink']\n",
    "    paper.loc[x,['numOfVersions']]=row['numOfVersions']\n",
    "    x=x+1;"
   ]
  },
  {
   "cell_type": "code",
   "execution_count": 83,
   "metadata": {},
   "outputs": [],
   "source": [
    "paper.to_csv('Journal_paper_information.csv')"
   ]
  },
  {
   "cell_type": "code",
   "execution_count": 46,
   "metadata": {},
   "outputs": [
    {
     "name": "stdout",
     "output_type": "stream",
     "text": [
      "{'author_id': ['', 'YdR1998AAAAJ', ''],\n",
      " 'bib': {'abstract': 'Sales forecasting is crucial in fashion business because '\n",
      "                     'of all the uncertainty associated with demand and '\n",
      "                     'supply. Many models for forecasting fashion products are '\n",
      "                     'proposed in the literature over the past few decades. '\n",
      "                     'With the emergence of artificial intelligence models, '\n",
      "                     'artificial neural networks (ANN) are widely used in '\n",
      "                     'forecasting. ANN models have been revealed to be more '\n",
      "                     'efficient and effective than many traditional '\n",
      "                     'statistical forecasting models. Despite the reported '\n",
      "                     'advantages, it is relatively more time-consuming for ANN '\n",
      "                     'to',\n",
      "         'author': ['Y Yu', 'TM Choi', 'CL Hui'],\n",
      "         'pub_year': '2011',\n",
      "         'title': 'An intelligent fast sales forecasting model for fashion '\n",
      "                  'products',\n",
      "         'venue': 'Expert Systems with Applications'},\n",
      " 'citedby_url': '/scholar?cites=10235276818864571817&as_sdt=5,33&sciodt=0,33&hl=en',\n",
      " 'filled': False,\n",
      " 'gsrank': 1,\n",
      " 'num_citations': 108,\n",
      " 'pub_url': 'https://www.sciencedirect.com/science/article/pii/S0957417410014521',\n",
      " 'source': 'PUBLICATION_SEARCH_SNIPPET',\n",
      " 'url_add_sclib': '/citations?hl=en&xsrf=&continue=/scholar%3Fq%3DAn%2Bintelligent%2Bfast%2Bsales%2Bforecasting%2Bmodel%2Bfor%2Bfashion%2Bproducts%26hl%3Den%26as_sdt%3D0,33&citilm=1&json=&update_op=library_add&info=qYU2tgkCC44J&ei=0I_pX5nhEdGrywTfzY6ACw',\n",
      " 'url_scholarbib': '/scholar?q=info:qYU2tgkCC44J:scholar.google.com/&output=cite&scirp=0&hl=en'}\n"
     ]
    }
   ],
   "source": [
    "search_query = scholarly.search_pubs('An intelligent fast sales forecasting model for fashion products')\n",
    "pub2=next(search_query)\n",
    "scholarly.pprint(pub2)"
   ]
  },
  {
   "cell_type": "code",
   "execution_count": 47,
   "metadata": {},
   "outputs": [
    {
     "name": "stdout",
     "output_type": "stream",
     "text": [
      "['Y Yu', 'TM Choi', 'CL Hui']\n"
     ]
    }
   ],
   "source": [
    "print(str.strip(str(pub2['bib']['author'])))"
   ]
  },
  {
   "cell_type": "code",
   "execution_count": 76,
   "metadata": {},
   "outputs": [
    {
     "name": "stdout",
     "output_type": "stream",
     "text": [
      "2016\n"
     ]
    }
   ],
   "source": [
    "print(str(pub2['bib']['pub_year']).strip('\\\"\"[]').replace(\"'\", \"\"))\n",
    "\n"
   ]
  },
  {
   "cell_type": "code",
   "execution_count": 62,
   "metadata": {},
   "outputs": [
    {
     "name": "stdout",
     "output_type": "stream",
     "text": [
      "An intelligent fast sales forecasting model for fashion products\n"
     ]
    }
   ],
   "source": [
    "str(pub2['bib']['titl']).strip('\\\"\"[]').replace(\"'\", \"\")"
   ]
  },
  {
   "cell_type": "code",
   "execution_count": 2,
   "metadata": {},
   "outputs": [],
   "source": [
    "import scrapy"
   ]
  },
  {
   "cell_type": "code",
   "execution_count": 3,
   "metadata": {},
   "outputs": [],
   "source": [
    "queries = ['airbnb', 'covid-19']"
   ]
  },
  {
   "cell_type": "code",
   "execution_count": 4,
   "metadata": {},
   "outputs": [],
   "source": [
    "API_KEY = '3a240cdf6049955d481a2a2dfea33620'\n",
    "\n",
    "def get_url(url):\n",
    "    payload = {'api_key': API_KEY, 'url': url, 'country_code': 'us'}\n",
    "    proxy_url = 'http://api.scraperapi.com/?' + urlencode(payload)\n",
    "    return proxy_url"
   ]
  },
  {
   "cell_type": "code",
   "execution_count": 66,
   "metadata": {},
   "outputs": [],
   "source": [
    "import pandas as pd\n",
    "import numpy as np"
   ]
  },
  {
   "cell_type": "code",
   "execution_count": 67,
   "metadata": {},
   "outputs": [],
   "source": [
    "df=pd.read_csv('C:/Users/RAHAT/Downloads/Stock Prediction Code/test.csv')"
   ]
  },
  {
   "cell_type": "code",
   "execution_count": 69,
   "metadata": {},
   "outputs": [
    {
     "name": "stdout",
     "output_type": "stream",
     "text": [
      "Sales forecasting using time series and neural networks\n",
      "Performance of state space and ARIMA models for consumer retail sales forecasting\n",
      "Forecasting commercial rental values using ARIMA models\n",
      "Forecasting of demand using ARIMA model\n",
      "Annual Automobile Sales Prediction Using ARIMA Model\n",
      "A comparative study of linear and nonlinear models for aggregate retail sales forecasting\n",
      "Time series forecasting using a hybrid ARIMA and neural network model\n",
      "Forecasting of raw material needed for plastic products based in income data using ARIMA method\n",
      "Predicting housing sales in Turkey using ARIMA, LSTM and hybrid models\n",
      "A hybrid neural network model for sales forecasting based on ARIMA and search popularity of article titles\n"
     ]
    }
   ],
   "source": [
    "for index, row in df.iterrows():\n",
    "    print(row['title'])"
   ]
  }
 ],
 "metadata": {
  "kernelspec": {
   "display_name": "Python 3",
   "language": "python",
   "name": "python3"
  },
  "language_info": {
   "codemirror_mode": {
    "name": "ipython",
    "version": 3
   },
   "file_extension": ".py",
   "mimetype": "text/x-python",
   "name": "python",
   "nbconvert_exporter": "python",
   "pygments_lexer": "ipython3",
   "version": "3.7.6"
  }
 },
 "nbformat": 4,
 "nbformat_minor": 4
}

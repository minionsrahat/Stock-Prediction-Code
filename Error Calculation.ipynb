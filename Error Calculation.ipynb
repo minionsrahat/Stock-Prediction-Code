{
 "cells": [
  {
   "cell_type": "code",
   "execution_count": 1,
   "metadata": {},
   "outputs": [],
   "source": [
    "import pandas as pd\n",
    "import numpy as np\n",
    "from datetime import datetime\n",
    "import matplotlib.pyplot as plt\n",
    "import warnings\n",
    "warnings.filterwarnings(\"ignore\")\n",
    "dateparse = lambda dates: pd.datetime.strptime(dates, '%d-%m-%Y')\n",
    "from sklearn.metrics import mean_squared_error \n",
    "from statsmodels.tools.eval_measures import rmse \n",
    "from statsmodels.tsa.statespace.sarimax import SARIMAX\n",
    "from statsmodels.tsa.arima.model import ARIMA\n",
    "from statsmodels.tsa.holtwinters import ExponentialSmoothing\n",
    "from fbprophet import Prophet\n",
    "from statsmodels.tsa.statespace.sarimax import SARIMAX\n",
    "from statsmodels.tsa.holtwinters import SimpleExpSmoothing\n",
    "from statsmodels.tsa.api import VAR\n",
    "from pmdarima.arima import auto_arima"
   ]
  },
  {
   "cell_type": "code",
   "execution_count": 15,
   "metadata": {},
   "outputs": [],
   "source": [
    "df=pd.read_csv('C:/Users/RAHAT/Downloads/Stock Prediction Code/RangeWise Error/Error_range_50-100.csv')"
   ]
  },
  {
   "cell_type": "code",
   "execution_count": 17,
   "metadata": {},
   "outputs": [
    {
     "data": {
      "text/plain": [
       "array([1.91982349, 2.02228674, 1.96690443, 1.9610613 , 3.1324855 ,\n",
       "       2.17950472])"
      ]
     },
     "execution_count": 17,
     "metadata": {},
     "output_type": "execute_result"
    }
   ],
   "source": [
    "np.array(df.mean())"
   ]
  },
  {
   "cell_type": "code",
   "execution_count": 2,
   "metadata": {},
   "outputs": [],
   "source": [
    "error_mean=pd.DataFrame(columns= ['Range','Mean_ARIMA','Mean_SARIMAX','Mean_VAR','Mean_PROPHET','Mean_SES','Mean_HOLT_WINTER'])"
   ]
  },
  {
   "cell_type": "code",
   "execution_count": 4,
   "metadata": {},
   "outputs": [
    {
     "ename": "NameError",
     "evalue": "name 'df' is not defined",
     "output_type": "error",
     "traceback": [
      "\u001b[1;31m---------------------------------------------------------------------------\u001b[0m",
      "\u001b[1;31mNameError\u001b[0m                                 Traceback (most recent call last)",
      "\u001b[1;32m<ipython-input-4-e1c1ae4ba8a7>\u001b[0m in \u001b[0;36m<module>\u001b[1;34m\u001b[0m\n\u001b[1;32m----> 1\u001b[1;33m \u001b[0merror_mean\u001b[0m\u001b[1;33m=\u001b[0m\u001b[0mnp\u001b[0m\u001b[1;33m.\u001b[0m\u001b[0marray\u001b[0m\u001b[1;33m(\u001b[0m\u001b[1;34m'40-100'\u001b[0m\u001b[1;33m,\u001b[0m\u001b[0mdf\u001b[0m\u001b[1;33m.\u001b[0m\u001b[0mmean\u001b[0m\u001b[1;33m(\u001b[0m\u001b[1;33m)\u001b[0m\u001b[1;33m)\u001b[0m\u001b[1;33m\u001b[0m\u001b[1;33m\u001b[0m\u001b[0m\n\u001b[0m",
      "\u001b[1;31mNameError\u001b[0m: name 'df' is not defined"
     ]
    }
   ],
   "source": [
    "error_mean=np.array('40-100',df.mean())"
   ]
  },
  {
   "cell_type": "code",
   "execution_count": 23,
   "metadata": {},
   "outputs": [
    {
     "data": {
      "text/plain": [
       "['40-100',\n",
       " Rmse_ARIMA          1.919823\n",
       " Rmse_SARIMAX        2.022287\n",
       " Rmse_VAR            1.966904\n",
       " Rmse_PROPHET        1.961061\n",
       " Rmse_SES            3.132485\n",
       " Rmse_HOLT_WINTER    2.179505\n",
       " dtype: float64]"
      ]
     },
     "execution_count": 23,
     "metadata": {},
     "output_type": "execute_result"
    }
   ],
   "source": [
    "['40-100',df.mean()]"
   ]
  },
  {
   "cell_type": "code",
   "execution_count": 24,
   "metadata": {},
   "outputs": [
    {
     "data": {
      "text/plain": [
       "2.0222867393000006"
      ]
     },
     "execution_count": 24,
     "metadata": {},
     "output_type": "execute_result"
    }
   ],
   "source": [
    "df['Rmse_SARIMAX'].mean()"
   ]
  },
  {
   "cell_type": "code",
   "execution_count": 6,
   "metadata": {},
   "outputs": [],
   "source": [
    "import os\n",
    "import logging, sys\n",
    "logging.disable(sys.maxsize)\n",
    "from math import sqrt\n",
    "paths_to_folders = ['C:/Users/RAHAT/Downloads/Stock Prediction Code/PFE']\n",
    "x=0\n",
    "error=pd.DataFrame(columns= ['Range','MEDIAN_ARIMA','MEDIAN_SARIMAX','MEDIAN_VAR','MEDIAN_PROPHET','MEDIAN_SES','MEDIAN_HOLT_WINTER'])\n",
    "# error=pd.DataFrame(columns= ['FILE_NAME','Rmse_ARIMA','Rmse_SARIMAX','Rmse_VAR','Rmse_PROPHET','Rmse_SES','Rmse_HOLT_WINTER'])\n",
    "for folder in paths_to_folders:\n",
    "   for csv_file in os.listdir(folder):\n",
    "     df=pd.read_csv('C:/Users/RAHAT/Downloads/Stock Prediction Code/PFE/'+csv_file)\n",
    "     error.loc[x,['Range']]=csv_file\n",
    "     error.loc[x,['MEDIAN_ARIMA']]=df['PFE_ARIMA'].median()\n",
    "     error.loc[x,['MEDIAN_SARIMAX']]=df['PFE_SARIMAX'].median()\n",
    "     error.loc[x,['MEDIAN_VAR']]=df['PFE_VAR'].mean()\n",
    "     error.loc[x,['MEDIAN_PROPHET']]=df['PFE_PROPHET'].median()\n",
    "     error.loc[x,['MEDIAN_SES']]=df['PFE_SES'].median()\n",
    "     error.loc[x,['MEDIAN_HOLT_WINTER']]=df['PFE_HOLT_WINTER'].median()\n",
    "     x=x+1"
   ]
  },
  {
   "cell_type": "code",
   "execution_count": 7,
   "metadata": {},
   "outputs": [
    {
     "data": {
      "text/html": [
       "<div>\n",
       "<style scoped>\n",
       "    .dataframe tbody tr th:only-of-type {\n",
       "        vertical-align: middle;\n",
       "    }\n",
       "\n",
       "    .dataframe tbody tr th {\n",
       "        vertical-align: top;\n",
       "    }\n",
       "\n",
       "    .dataframe thead th {\n",
       "        text-align: right;\n",
       "    }\n",
       "</style>\n",
       "<table border=\"1\" class=\"dataframe\">\n",
       "  <thead>\n",
       "    <tr style=\"text-align: right;\">\n",
       "      <th></th>\n",
       "      <th>Range</th>\n",
       "      <th>MEDIAN_ARIMA</th>\n",
       "      <th>MEDIAN_SARIMAX</th>\n",
       "      <th>MEDIAN_VAR</th>\n",
       "      <th>MEDIAN_PROPHET</th>\n",
       "      <th>MEDIAN_SES</th>\n",
       "      <th>MEDIAN_HOLT_WINTER</th>\n",
       "    </tr>\n",
       "  </thead>\n",
       "  <tbody>\n",
       "    <tr>\n",
       "      <th>0</th>\n",
       "      <td>PFE_RANGE_0-50.csv</td>\n",
       "      <td>0.737715</td>\n",
       "      <td>0.737924</td>\n",
       "      <td>0.822545</td>\n",
       "      <td>0.856374</td>\n",
       "      <td>1.09427</td>\n",
       "      <td>0.786527</td>\n",
       "    </tr>\n",
       "    <tr>\n",
       "      <th>1</th>\n",
       "      <td>PFE_RANGE_100-200.csv</td>\n",
       "      <td>0.123338</td>\n",
       "      <td>0.134412</td>\n",
       "      <td>0.15169</td>\n",
       "      <td>0.138923</td>\n",
       "      <td>0.188662</td>\n",
       "      <td>0.130785</td>\n",
       "    </tr>\n",
       "    <tr>\n",
       "      <th>2</th>\n",
       "      <td>PFE_RANGE_200-300.csv</td>\n",
       "      <td>0.104606</td>\n",
       "      <td>0.0959886</td>\n",
       "      <td>0.121255</td>\n",
       "      <td>0.0964316</td>\n",
       "      <td>0.158329</td>\n",
       "      <td>0.112262</td>\n",
       "    </tr>\n",
       "    <tr>\n",
       "      <th>3</th>\n",
       "      <td>PFE_RANGE_300-400.csv</td>\n",
       "      <td>0.0678762</td>\n",
       "      <td>0.0683031</td>\n",
       "      <td>0.0941921</td>\n",
       "      <td>0.0870004</td>\n",
       "      <td>0.0732836</td>\n",
       "      <td>0.0702264</td>\n",
       "    </tr>\n",
       "    <tr>\n",
       "      <th>4</th>\n",
       "      <td>PFE_RANGE_400+.csv</td>\n",
       "      <td>0.0301097</td>\n",
       "      <td>0.0345554</td>\n",
       "      <td>0.0431472</td>\n",
       "      <td>0.0304745</td>\n",
       "      <td>0.0394152</td>\n",
       "      <td>0.0288375</td>\n",
       "    </tr>\n",
       "    <tr>\n",
       "      <th>5</th>\n",
       "      <td>PFE_RANGE_50-100.csv</td>\n",
       "      <td>0.178552</td>\n",
       "      <td>0.190481</td>\n",
       "      <td>0.209501</td>\n",
       "      <td>0.190738</td>\n",
       "      <td>0.190286</td>\n",
       "      <td>0.19402</td>\n",
       "    </tr>\n",
       "  </tbody>\n",
       "</table>\n",
       "</div>"
      ],
      "text/plain": [
       "                   Range MEDIAN_ARIMA MEDIAN_SARIMAX MEDIAN_VAR  \\\n",
       "0     PFE_RANGE_0-50.csv     0.737715       0.737924   0.822545   \n",
       "1  PFE_RANGE_100-200.csv     0.123338       0.134412    0.15169   \n",
       "2  PFE_RANGE_200-300.csv     0.104606      0.0959886   0.121255   \n",
       "3  PFE_RANGE_300-400.csv    0.0678762      0.0683031  0.0941921   \n",
       "4     PFE_RANGE_400+.csv    0.0301097      0.0345554  0.0431472   \n",
       "5   PFE_RANGE_50-100.csv     0.178552       0.190481   0.209501   \n",
       "\n",
       "  MEDIAN_PROPHET MEDIAN_SES MEDIAN_HOLT_WINTER  \n",
       "0       0.856374    1.09427           0.786527  \n",
       "1       0.138923   0.188662           0.130785  \n",
       "2      0.0964316   0.158329           0.112262  \n",
       "3      0.0870004  0.0732836          0.0702264  \n",
       "4      0.0304745  0.0394152          0.0288375  \n",
       "5       0.190738   0.190286            0.19402  "
      ]
     },
     "execution_count": 7,
     "metadata": {},
     "output_type": "execute_result"
    }
   ],
   "source": [
    "error"
   ]
  },
  {
   "cell_type": "code",
   "execution_count": 8,
   "metadata": {},
   "outputs": [],
   "source": [
    "error.to_csv('Range Wise PFE Median Error.csv')"
   ]
  },
  {
   "cell_type": "code",
   "execution_count": null,
   "metadata": {},
   "outputs": [],
   "source": []
  }
 ],
 "metadata": {
  "kernelspec": {
   "display_name": "Python 3",
   "language": "python",
   "name": "python3"
  },
  "language_info": {
   "codemirror_mode": {
    "name": "ipython",
    "version": 3
   },
   "file_extension": ".py",
   "mimetype": "text/x-python",
   "name": "python",
   "nbconvert_exporter": "python",
   "pygments_lexer": "ipython3",
   "version": "3.7.6"
  }
 },
 "nbformat": 4,
 "nbformat_minor": 4
}
